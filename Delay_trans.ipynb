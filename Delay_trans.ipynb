{
 "cells": [
  {
   "cell_type": "code",
   "execution_count": 15,
   "metadata": {},
   "outputs": [],
   "source": [
    "from models.model import ImagenTime # \\models\\model.py\n",
    "from utils.utils_data import gen_dataloader\n",
    "from utils.utils import restore_state\n",
    "import sys\n",
    "import matplotlib.pyplot as plt\n",
    "import seaborn as sns\n",
    "from tqdm import tqdm\n",
    "from models.sampler import DiffusionProcess\n",
    "%matplotlib inline\n",
    "import torch\n"
   ]
  },
  {
   "cell_type": "code",
   "execution_count": 16,
   "metadata": {},
   "outputs": [
    {
     "name": "stdout",
     "output_type": "stream",
     "text": [
      "./data/short_range/padded_fmri_set.pt\n",
      "dataset ready\n"
     ]
    }
   ],
   "source": [
    "\n",
    "# Define args as needed for gen_dataloader\n",
    "class Args:\n",
    "\tdef __init__(self):\n",
    "\t\tself.batch_size = 140\n",
    "\t\t# self.seq_len = 24\n",
    "\t\tself.use_stft = False\n",
    "\t\tself.delay = 8\n",
    "\t\tself.embedding = 32\n",
    "\t\tself.img_resolution = 32\n",
    "\t\tself.input_channels = 28\n",
    "\t\tself.unet_channels = 128\n",
    "\t\tself.ch_mult = [1,2,2,4]\n",
    "\t\tself.attn_resolution = [8,4,2]\n",
    "\t\tself.diffusion_steps = 18\n",
    "\t\tself.ema = True\n",
    "\t\tself.ema_warmup = 100\n",
    "\t\tself.logging_iter = 100\n",
    "\t\tself.dataset = 'fmri'\n",
    "\t\tself.device = 'cuda'\n",
    "\t\tself.num_workers = 4\n",
    "\n",
    "\n",
    "args = Args()\n",
    "\n",
    "train_loader, test_loader = gen_dataloader(args)\n",
    "print(\"dataset ready\")"
   ]
  },
  {
   "cell_type": "code",
   "execution_count": 17,
   "metadata": {},
   "outputs": [],
   "source": [
    "# Check if CUDA is available\n",
    "device = torch.device(\"cuda\" if torch.cuda.is_available() else \"cpu\")\n",
    "args.device = device\n",
    "\n",
    "model = ImagenTime(args=args, device=args.device).to(args.device)\n",
    "if args.use_stft:\n",
    "    model.init_stft_embedder(train_loader)\n",
    "    print(\"STFT embedder initialized\")\n",
    "\n",
    "args.learning_rate=  0.0003 #1e-4\n",
    "args.weight_decay=  0.00001 #1e-4\n",
    "args.resume = False\n",
    "args.epochs = 1000\n",
    "args.beta1 = 1e-05\n",
    "args.betaT = 0.01\n",
    "args.deterministic = False\n",
    "\n",
    "\n",
    "optimizer = torch.optim.AdamW(model.parameters(), lr=args.learning_rate, weight_decay=args.weight_decay)\n",
    "state = dict(model=model, epoch=0)\n",
    "init_epoch = 0\n",
    "\n",
    "\n",
    "if args.resume:\n",
    "    ema_model = model.model_ema if args.ema else None # load ema model if available\n",
    "    init_epoch = restore_state(args, state, ema_model=ema_model)"
   ]
  },
  {
   "cell_type": "code",
   "execution_count": 18,
   "metadata": {},
   "outputs": [
    {
     "name": "stdout",
     "output_type": "stream",
     "text": [
      "x_ts shape:  torch.Size([140, 264, 1])\n",
      "True\n",
      "torch.Size([140, 1, 32, 32])\n"
     ]
    },
    {
     "data": {
      "image/png": "[encoded data removed]",
      "text/plain": [
       "<Figure size 600x600 with 2 Axes>"
      ]
     },
     "metadata": {},
     "output_type": "display_data"
    }
   ],
   "source": [
    "for i, data in enumerate(train_loader, 1):\n",
    "    x_ts = data[0].to(args.device)\n",
    "    print(\"x_ts shape: \", x_ts.shape)\n",
    "\n",
    "    x_img = model.ts_to_img(x_ts)\n",
    "    print(x_img.shape)\n",
    "\n",
    "    \n",
    "    x_img_np = x_img.cpu().detach().numpy()  # Convert to NumPy \n",
    "\n",
    "    time_step = 0  # Change this index to view different samples\n",
    "    image = x_img_np[time_step, 0, :, :]  # shape: time step, 1, img res, img res\n",
    "\n",
    "    # Display the image\n",
    "    plt.figure(figsize=(6, 6))\n",
    "    plt.imshow(image, cmap='viridis')  # Use color map \n",
    "    plt.colorbar()  #  a color bar to interpret values\n",
    "    plt.title(f\"Delay Embedded Image - Time Step {time_step + 1}\")\n",
    "    # plt.xlabel(\"Time Lag\")\n",
    "    # plt.ylabel(\"Embedding Dimension\")\n",
    "    plt.savefig(\"delay_embedded_image_ts1.png\")\n",
    "    plt.show()\n",
    "\n",
    "    break\n",
    "\n"
   ]
  },
  {
   "cell_type": "code",
   "execution_count": 21,
   "metadata": {},
   "outputs": [
    {
     "name": "stdout",
     "output_type": "stream",
     "text": [
      "torch.Size([140, 264, 1])\n"
     ]
    }
   ],
   "source": [
    "After_trans_ts = model.img_to_ts(x_img)\n",
    "\n",
    "print(After_trans_ts.shape)"
   ]
  },
  {
   "cell_type": "code",
   "execution_count": 27,
   "metadata": {},
   "outputs": [
    {
     "name": "stdout",
     "output_type": "stream",
     "text": [
      "Before Transformation ts_shape: torch.Size([140, 264, 1])\n",
      "After Transformation ts_shape: torch.Size([140, 264, 1])\n",
      "\n",
      "\n",
      "MAE: 0.0\n",
      "MRSE: 0.0\n"
     ]
    }
   ],
   "source": [
    "Bf_transform_ts = x_ts\n",
    "After_trans_ts = After_trans_ts\n",
    "\n",
    "\n",
    "print(f\"Before Transformation ts_shape: {Bf_transform_ts.shape}\")\n",
    "print(f\"After Transformation ts_shape: {After_trans_ts.shape}\")\n",
    "print(\"\\n\")\n",
    "\n",
    "\n",
    "Bf_transform_ts_flat = Bf_transform_ts.view(-1)\n",
    "After_trans_ts_flat = After_trans_ts.view(-1)\n",
    "\n",
    "# Calculate MAE (Mean Absolute Error)\n",
    "mae = torch.mean(torch.abs(Bf_transform_ts_flat - After_trans_ts_flat))\n",
    "\n",
    "# Calculate MRSE (Mean Root Squared Error)\n",
    "mrse = torch.sqrt(torch.mean((Bf_transform_ts_flat - After_trans_ts_flat) ** 2))\n",
    "\n",
    "print(f\"MAE: {mae.item()}\")\n",
    "print(f\"MRSE: {mrse.item()}\")"
   ]
  }
 ],
 "metadata": {
  "kernelspec": {
   "display_name": "env1",
   "language": "python",
   "name": "python3"
  },
  "language_info": {
   "codemirror_mode": {
    "name": "ipython",
    "version": 3
   },
   "file_extension": ".py",
   "mimetype": "text/x-python",
   "name": "python",
   "nbconvert_exporter": "python",
   "pygments_lexer": "ipython3",
   "version": "3.12.8"
  }
 },
 "nbformat": 4,
 "nbformat_minor": 2
}
